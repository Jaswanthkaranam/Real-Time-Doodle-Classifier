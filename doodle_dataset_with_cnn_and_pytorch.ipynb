{
  "nbformat": 4,
  "nbformat_minor": 0,
  "metadata": {
    "accelerator": "GPU",
    "colab": {
      "name": "doodle dataset with cnn and pytorch",
      "provenance": [],
      "collapsed_sections": []
    },
    "kernelspec": {
      "display_name": "Python 3",
      "name": "python3"
    },
    "language_info": {
      "name": "python"
    }
  },
  "cells": [
    {
      "cell_type": "code",
      "metadata": {
        "id": "N5wqM8lb2gkw"
      },
      "source": [
        "import torch \n",
        "import torch.nn as nn\n",
        "import torchvision\n",
        "import torchvision.transforms as transforms\n",
        "import matplotlib.pyplot as plt\n",
        "from torch.utils.data import Dataset,DataLoader\n",
        "import numpy as np\n",
        "import torch.nn.functional as F"
      ],
      "execution_count": 2,
      "outputs": []
    },
    {
      "cell_type": "code",
      "metadata": {
        "colab": {
          "base_uri": "https://localhost:8080/"
        },
        "id": "EPhTaB002hhw",
        "outputId": "48ce916b-b484-4164-973b-72753948d3d0"
      },
      "source": [
        "!unrar e '/content/drive/MyDrive/Doodle dataset.rar'"
      ],
      "execution_count": 3,
      "outputs": [
        {
          "output_type": "stream",
          "name": "stdout",
          "text": [
            "\n",
            "UNRAR 5.50 freeware      Copyright (c) 1993-2017 Alexander Roshal\n",
            "\n",
            "\n",
            "Extracting from /content/drive/MyDrive/Doodle dataset.rar\n",
            "\n",
            "Extracting  full_numpy_bitmap_airplane.npy                               \b\b\b\b  0%\b\b\b\b  1%\b\b\b\b  2%\b\b\b\b  3%\b\b\b\b  4%\b\b\b\b  5%\b\b\b\b\b  OK \n",
            "Extracting  full_numpy_bitmap_ant.npy                                    \b\b\b\b  5%\b\b\b\b  6%\b\b\b\b  7%\b\b\b\b  8%\b\b\b\b  9%\b\b\b\b\b  OK \n",
            "Extracting  full_numpy_bitmap_banana.npy                                 \b\b\b\b  9%\b\b\b\b 10%\b\b\b\b 11%\b\b\b\b 12%\b\b\b\b 13%\b\b\b\b 14%\b\b\b\b 15%\b\b\b\b 16%\b\b\b\b 17%\b\b\b\b 18%\b\b\b\b 19%\b\b\b\b\b  OK \n",
            "Extracting  full_numpy_bitmap_baseball.npy                               \b\b\b\b 19%\b\b\b\b 20%\b\b\b\b 21%\b\b\b\b 22%\b\b\b\b 23%\b\b\b\b 24%\b\b\b\b 25%\b\b\b\b\b  OK \n",
            "Extracting  full_numpy_bitmap_bird.npy                                   \b\b\b\b 25%\b\b\b\b 26%\b\b\b\b 27%\b\b\b\b 28%\b\b\b\b 29%\b\b\b\b 30%\b\b\b\b\b  OK \n",
            "Extracting  full_numpy_bitmap_bucket.npy                                 \b\b\b\b 30%\b\b\b\b 31%\b\b\b\b 32%\b\b\b\b 33%\b\b\b\b 34%\b\b\b\b\b  OK \n",
            "Extracting  full_numpy_bitmap_butterfly.npy                              \b\b\b\b 34%\b\b\b\b 35%\b\b\b\b 36%\b\b\b\b 37%\b\b\b\b 38%\b\b\b\b 39%\b\b\b\b 40%\b\b\b\b\b  OK \n",
            "Extracting  full_numpy_bitmap_cat.npy                                    \b\b\b\b 40%\b\b\b\b 41%\b\b\b\b 42%\b\b\b\b 43%\b\b\b\b 44%\b\b\b\b 45%\b\b\b\b\b  OK \n",
            "Extracting  full_numpy_bitmap_coffee cup.npy                             \b\b\b\b 45%\b\b\b\b 46%\b\b\b\b 47%\b\b\b\b 48%\b\b\b\b 49%\b\b\b\b 50%\b\b\b\b 51%\b\b\b\b 52%\b\b\b\b 53%\b\b\b\b\b  OK \n",
            "Extracting  full_numpy_bitmap_dolphin.npy                                \b\b\b\b 53%\b\b\b\b 54%\b\b\b\b 55%\b\b\b\b 56%\b\b\b\b\b  OK \n",
            "Extracting  full_numpy_bitmap_donut.npy                                  \b\b\b\b 56%\b\b\b\b 57%\b\b\b\b 58%\b\b\b\b 59%\b\b\b\b 60%\b\b\b\b 61%\b\b\b\b 62%\b\b\b\b 63%\b\b\b\b\b  OK \n",
            "Extracting  full_numpy_bitmap_duck.npy                                   \b\b\b\b 63%\b\b\b\b 64%\b\b\b\b 65%\b\b\b\b 66%\b\b\b\b 67%\b\b\b\b 68%\b\b\b\b\b  OK \n",
            "Extracting  full_numpy_bitmap_fish.npy                                   \b\b\b\b 68%\b\b\b\b 69%\b\b\b\b 70%\b\b\b\b 71%\b\b\b\b 72%\b\b\b\b\b  OK \n",
            "Extracting  full_numpy_bitmap_leaf.npy                                   \b\b\b\b 72%\b\b\b\b 73%\b\b\b\b 74%\b\b\b\b 75%\b\b\b\b 76%\b\b\b\b 77%\b\b\b\b\b  OK \n",
            "Extracting  full_numpy_bitmap_mountain.npy                               \b\b\b\b 77%\b\b\b\b 78%\b\b\b\b 79%\b\b\b\b 80%\b\b\b\b\b  OK \n",
            "Extracting  full_numpy_bitmap_pencil.npy                                 \b\b\b\b 80%\b\b\b\b 81%\b\b\b\b 82%\b\b\b\b 83%\b\b\b\b\b  OK \n",
            "Extracting  full_numpy_bitmap_smiley face.npy                            \b\b\b\b 83%\b\b\b\b 84%\b\b\b\b 85%\b\b\b\b 86%\b\b\b\b 87%\b\b\b\b 88%\b\b\b\b 89%\b\b\b\b\b  OK \n",
            "Extracting  full_numpy_bitmap_snake.npy                                  \b\b\b\b 89%\b\b\b\b 90%\b\b\b\b 91%\b\b\b\b 92%\b\b\b\b\b  OK \n",
            "Extracting  full_numpy_bitmap_umbrella.npy                               \b\b\b\b 92%\b\b\b\b 93%\b\b\b\b 94%\b\b\b\b 95%\b\b\b\b 96%\b\b\b\b\b  OK \n",
            "Extracting  full_numpy_bitmap_wine bottle.npy                            \b\b\b\b 96%\b\b\b\b 97%\b\b\b\b 98%\b\b\b\b 99%\b\b\b\b\b  OK \n",
            "All OK\n"
          ]
        }
      ]
    },
    {
      "cell_type": "code",
      "metadata": {
        "id": "SqVnR-Bk3NpP"
      },
      "source": [
        "D1=np.load(\"/content/full_numpy_bitmap_airplane.npy\")\n",
        "\n",
        "l1=np.full((151623,1),0)\n",
        "D2=np.load(\"/content/full_numpy_bitmap_ant.npy\")\n",
        "\n",
        "l2=np.full((124612,1),1)\n",
        "D3=np.load(\"/content/full_numpy_bitmap_banana.npy\")\n",
        "\n",
        "l3=np.full((307936,1),2)\n",
        "D4=np.load(\"/content/full_numpy_bitmap_baseball.npy\")\n",
        "\n",
        "l4=np.full((135375,1),3)\n",
        "D5=np.load(\"/content/full_numpy_bitmap_bird.npy\")\n",
        "\n",
        "l5=np.full((133572,1),4)\n",
        "D6=np.load(\"/content/full_numpy_bitmap_bucket.npy\")\n",
        "\n",
        "l6=np.full((124064,1),5)\n",
        "D7=np.load(\"/content/full_numpy_bitmap_butterfly.npy\")\n",
        "\n",
        "l7=np.full((117999,1),6)\n",
        "D8=np.load(\"/content/full_numpy_bitmap_cat.npy\")\n",
        "\n",
        "l8=np.full((123202,1),7)\n",
        "D9=np.load(\"/content/full_numpy_bitmap_coffee cup.npy\")\n",
        "\n",
        "l9=np.full((183432,1),8)\n",
        "D10=np.load(\"/content/full_numpy_bitmap_dolphin.npy\")\n",
        "\n",
        "l10=np.full((121613,1),9)\n",
        "D11=np.load(\"/content/full_numpy_bitmap_donut.npy\")\n",
        "\n",
        "l11=np.full((140751,1),10)\n",
        "D12=np.load(\"/content/full_numpy_bitmap_duck.npy\")\n",
        "\n",
        "l12=np.full((135480,1),11)\n",
        "D13=np.load(\"/content/full_numpy_bitmap_fish.npy\")\n",
        "\n",
        "l13=np.full((134150,1),12)\n",
        "D14=np.load(\"/content/full_numpy_bitmap_leaf.npy\")\n",
        "\n",
        "l14=np.full((125571,1),13)\n",
        "D15=np.load(\"/content/full_numpy_bitmap_mountain.npy\")\n",
        "\n",
        "l15=np.full((128540,1),14)\n",
        "D16=np.load(\"/content/full_numpy_bitmap_pencil.npy\")\n",
        "l16=np.full((122001,1),15)\n",
        "D17=np.load(\"/content/full_numpy_bitmap_smiley face.npy\")\n",
        "l17=np.full((124386,1),16)\n",
        "D18=np.load(\"/content/full_numpy_bitmap_snake.npy\")\n",
        "l18=np.full((122273,1),17)\n",
        "D19=np.load(\"/content/full_numpy_bitmap_umbrella.npy\")\n",
        "l19=np.full((124084,1),18)\n",
        "D20=np.load(\"/content/full_numpy_bitmap_wine bottle.npy\")\n",
        "l20=np.full((126373,1),19)\n",
        "\n"
      ],
      "execution_count": 4,
      "outputs": []
    },
    {
      "cell_type": "code",
      "metadata": {
        "colab": {
          "base_uri": "https://localhost:8080/"
        },
        "id": "FqoNYk3O3UL-",
        "outputId": "6d356aa4-c03d-4656-bc36-71089fc493bb"
      },
      "source": [
        "total_data=np.concatenate((D1,D2,D3,D4,D5,D6,D7,D8,D9,D10,D11,D12,D13,D14,D15,D16,D17,D18,D19,D20),axis=0)\n",
        "total_label=np.concatenate((l1,l2,l3,l4,l5,l6,l7,l8,l9,l10,l11,l12,l13,l14,l15,l16,l17,l18,l19,l20),axis=0)\n",
        "print(total_data.shape)\n",
        "print(total_label.shape)\n",
        "a=np.arange(0,2807037)\n",
        "np.random.shuffle(a)\n",
        "total_data=total_data[a,:]\n",
        "total_label=total_label[a,:]"
      ],
      "execution_count": 5,
      "outputs": [
        {
          "output_type": "stream",
          "name": "stdout",
          "text": [
            "(2807037, 784)\n",
            "(2807037, 1)\n"
          ]
        }
      ]
    },
    {
      "cell_type": "code",
      "metadata": {
        "id": "NWriasrC3XTR"
      },
      "source": [
        "batch_size=1024\n",
        "total_batches=549\n",
        "\n",
        "\n",
        "class Data_train(Dataset):\n",
        "  def __init__(self):\n",
        "    self.x= total_data[:1964925,:].reshape(1964925,1,28,28)\n",
        "    self.y= total_label[:1964925,:].reshape(1964925,)\n",
        "    self.n= total_data[:1964925,:].shape[0]\n",
        "  def __getitem__(self,i):\n",
        "    return self.x[i],self.y[i]\n",
        "  def __len__(self):\n",
        "    return self.n\n",
        "data_train=Data_train()\n",
        "dataloader_train=DataLoader(data_train,batch_size=1024,shuffle=True)\n",
        "\n",
        "class Data_test(Dataset):\n",
        "  def __init__(self):\n",
        "    self.x= total_data[1964925:,:].reshape(2807037-1964925,1,28,28)\n",
        "    self.y= total_label[1964925:,:].reshape(2807037-1964925,)\n",
        "    self.n= total_data[1964925:,:].shape[0]\n",
        "  def __getitem__(self,i):\n",
        "    return self.x[i],self.y[i]\n",
        "  def __len__(self):\n",
        "    return self.n\n",
        "data_test=Data_test()\n",
        "dataloader_test=DataLoader(data_test,batch_size=1024,shuffle=True)"
      ],
      "execution_count": 20,
      "outputs": []
    },
    {
      "cell_type": "code",
      "metadata": {
        "colab": {
          "base_uri": "https://localhost:8080/"
        },
        "id": "UeESvbjZ3aAy",
        "outputId": "1ac0b279-b4a2-472d-d845-17fa80511b61"
      },
      "source": [
        "device=torch.device('cuda' if torch.cuda.is_available() else 'cpu')\n",
        "learning_rate=0.03\n",
        "\n",
        "class ConvNN(nn.Module): \n",
        "  def __init__(self):\n",
        "    super(ConvNN, self).__init__()\n",
        "    self.conv1=nn.Conv2d(1,6,5)\n",
        "    self.pool= nn.MaxPool2d(2,2)\n",
        "    self.conv2=nn.Conv2d(6,16,5)\n",
        "    self.fc1=nn.Linear(16*4*4,120)\n",
        "    self.fc2=nn.Linear(120,84)\n",
        "    self.fc3=nn.Linear(84,20)\n",
        "\n",
        "    \n",
        "  def forward(self,x):\n",
        "    x=self.pool(F.relu(self.conv1(x)))\n",
        "    x=self.pool(F.relu(self.conv2(x)))\n",
        "    x=x.view(-1,16*4*4)\n",
        "    x=F.relu(self.fc1(x))\n",
        "    x=F.relu(self.fc2(x))\n",
        "    x=self.fc3(x)\n",
        "    return x\n",
        "    \n",
        "\n",
        "\n",
        "model= ConvNN().to(device)\n",
        "\n",
        "criterion=nn.CrossEntropyLoss()\n",
        "\n",
        "optimizer=torch.optim.SGD(model.parameters(),lr=learning_rate)\n",
        "\n",
        "train_losses = []\n",
        "train_counter = []\n",
        "test_losses = []\n",
        "num_epochs=100\n",
        "for epoch in range(num_epochs):\n",
        "  for i,(images,labels) in enumerate(dataloader_train):\n",
        "    images=images.to(device)\n",
        "    labels=labels.to(device)\n",
        "    #forward\n",
        "    outputs=model(images.float())\n",
        "    loss=criterion(outputs,labels)\n",
        "    if i%4000 == 0:\n",
        "      train_losses.append(loss.item())\n",
        "\n",
        "    #backward\n",
        "    optimizer.zero_grad()\n",
        "    loss.backward()\n",
        "    optimizer.step()\n",
        "    if i%4000 == 0:\n",
        "      print(f'Epoch number: {epoch+1}, loss ={loss.item():.4f}')"
      ],
      "execution_count": 23,
      "outputs": [
        {
          "output_type": "stream",
          "name": "stdout",
          "text": [
            "Epoch number: 1, loss =6.8608\n",
            "Epoch number: 2, loss =0.5302\n",
            "Epoch number: 3, loss =0.4119\n",
            "Epoch number: 4, loss =0.4148\n",
            "Epoch number: 5, loss =0.3767\n",
            "Epoch number: 6, loss =0.3707\n",
            "Epoch number: 7, loss =0.4604\n",
            "Epoch number: 8, loss =0.3800\n",
            "Epoch number: 9, loss =0.3989\n",
            "Epoch number: 10, loss =0.4028\n",
            "Epoch number: 11, loss =0.3887\n",
            "Epoch number: 12, loss =0.4070\n",
            "Epoch number: 13, loss =0.3860\n",
            "Epoch number: 14, loss =0.3574\n",
            "Epoch number: 15, loss =0.3560\n",
            "Epoch number: 16, loss =0.3676\n",
            "Epoch number: 17, loss =0.3174\n",
            "Epoch number: 18, loss =0.3206\n",
            "Epoch number: 19, loss =0.3405\n",
            "Epoch number: 20, loss =0.3884\n",
            "Epoch number: 21, loss =0.3907\n",
            "Epoch number: 22, loss =0.3070\n",
            "Epoch number: 23, loss =0.3527\n",
            "Epoch number: 24, loss =0.3437\n",
            "Epoch number: 25, loss =0.3182\n",
            "Epoch number: 26, loss =0.3195\n",
            "Epoch number: 27, loss =0.3195\n",
            "Epoch number: 28, loss =0.3400\n",
            "Epoch number: 29, loss =0.3016\n",
            "Epoch number: 30, loss =0.3618\n",
            "Epoch number: 31, loss =0.3229\n",
            "Epoch number: 32, loss =0.3128\n",
            "Epoch number: 33, loss =0.3023\n",
            "Epoch number: 34, loss =0.3367\n",
            "Epoch number: 35, loss =0.3178\n",
            "Epoch number: 36, loss =0.3216\n",
            "Epoch number: 37, loss =0.3426\n",
            "Epoch number: 38, loss =0.3545\n",
            "Epoch number: 39, loss =0.2933\n",
            "Epoch number: 40, loss =0.3158\n",
            "Epoch number: 41, loss =0.3421\n",
            "Epoch number: 42, loss =0.3288\n",
            "Epoch number: 43, loss =0.2777\n",
            "Epoch number: 44, loss =0.3584\n",
            "Epoch number: 45, loss =0.3586\n",
            "Epoch number: 46, loss =0.3629\n",
            "Epoch number: 47, loss =0.3310\n",
            "Epoch number: 48, loss =0.3419\n",
            "Epoch number: 49, loss =0.3440\n",
            "Epoch number: 50, loss =0.3437\n",
            "Epoch number: 51, loss =0.2923\n",
            "Epoch number: 52, loss =0.3455\n",
            "Epoch number: 53, loss =0.3338\n",
            "Epoch number: 54, loss =0.3508\n",
            "Epoch number: 55, loss =0.3939\n",
            "Epoch number: 56, loss =0.2938\n",
            "Epoch number: 57, loss =0.2773\n",
            "Epoch number: 58, loss =0.2922\n",
            "Epoch number: 59, loss =0.3129\n",
            "Epoch number: 60, loss =0.2959\n",
            "Epoch number: 61, loss =0.3571\n",
            "Epoch number: 62, loss =0.3434\n",
            "Epoch number: 63, loss =0.2952\n",
            "Epoch number: 64, loss =0.2553\n",
            "Epoch number: 65, loss =0.2962\n",
            "Epoch number: 66, loss =0.2407\n",
            "Epoch number: 67, loss =0.3326\n",
            "Epoch number: 68, loss =0.3433\n",
            "Epoch number: 69, loss =0.2797\n",
            "Epoch number: 70, loss =0.3080\n",
            "Epoch number: 71, loss =0.2842\n",
            "Epoch number: 72, loss =0.3152\n",
            "Epoch number: 73, loss =0.3037\n",
            "Epoch number: 74, loss =0.3002\n",
            "Epoch number: 75, loss =0.2705\n",
            "Epoch number: 76, loss =0.2793\n",
            "Epoch number: 78, loss =0.2882\n",
            "Epoch number: 79, loss =0.2666\n",
            "Epoch number: 80, loss =0.2936\n",
            "Epoch number: 81, loss =0.2661\n",
            "Epoch number: 82, loss =0.2886\n",
            "Epoch number: 83, loss =0.3092\n",
            "Epoch number: 84, loss =0.2741\n",
            "Epoch number: 85, loss =0.3159\n",
            "Epoch number: 86, loss =0.2625\n",
            "Epoch number: 87, loss =0.2701\n",
            "Epoch number: 88, loss =0.2878\n",
            "Epoch number: 89, loss =0.2641\n",
            "Epoch number: 90, loss =0.2866\n",
            "Epoch number: 91, loss =0.3115\n",
            "Epoch number: 92, loss =0.2913\n",
            "Epoch number: 93, loss =0.2987\n",
            "Epoch number: 94, loss =0.2813\n",
            "Epoch number: 95, loss =0.2688\n",
            "Epoch number: 96, loss =0.3198\n",
            "Epoch number: 97, loss =0.3144\n",
            "Epoch number: 98, loss =0.2818\n",
            "Epoch number: 99, loss =0.2878\n",
            "Epoch number: 100, loss =0.3036\n"
          ]
        }
      ]
    },
    {
      "cell_type": "code",
      "metadata": {
        "id": "CTRn5_ii3dk1",
        "colab": {
          "base_uri": "https://localhost:8080/"
        },
        "outputId": "48ebb93a-f66a-41e3-c89a-2c2aad1df305"
      },
      "source": [
        "def test(): \n",
        "  with torch.no_grad():\n",
        "    n_correct = 0\n",
        "    n_samples = 0\n",
        "    for images, labels in (dataloader_test):\n",
        "      images=images.to(device)\n",
        "      labels=labels.to(device)\n",
        "      outputs = model(images.float())\n",
        "\n",
        "      _,predictions = torch.max(outputs, 1) #torch.max function will return the value and the index and we are interested in the actual index\n",
        "      n_samples += labels.shape[0]\n",
        "      n_correct += (predictions == labels).sum().item()\n",
        "  \n",
        "    acc = 100* n_correct / n_samples\n",
        "    print(f'Test accuracy = {acc:.4f}')\n",
        "\n",
        "def train(): \n",
        "  with torch.no_grad():\n",
        "    n_correct = 0\n",
        "    n_samples = 0\n",
        "    for images, labels in (dataloader_train):\n",
        "      images=images.to(device)\n",
        "      labels=labels.to(device)\n",
        "      outputs = model(images.float())\n",
        "\n",
        "      _,predictions = torch.max(outputs, 1) #torch.max function will return the value and the index and we are interested in the actual index\n",
        "      n_samples += labels.shape[0]\n",
        "      n_correct += (predictions == labels).sum().item()\n",
        "  \n",
        "    acc = 100* n_correct / n_samples\n",
        "    print(f'Training accuracy = {acc:.4f}')\n",
        "\n",
        "train()\n",
        "test()"
      ],
      "execution_count": 24,
      "outputs": [
        {
          "output_type": "stream",
          "name": "stdout",
          "text": [
            "Training accuracy = 91.1178\n",
            "Test accuracy = 90.3160\n"
          ]
        }
      ]
    },
    {
      "cell_type": "code",
      "metadata": {
        "id": "FirrVulX3lRW",
        "colab": {
          "base_uri": "https://localhost:8080/",
          "height": 313
        },
        "outputId": "9f7e2f46-ced8-4f2b-f0f3-aef0d103c59c"
      },
      "source": [
        "plt.plot(train_losses)\n",
        "plt.xlabel(\"epochs\")\n",
        "plt.ylabel(\"Loss\")\n",
        "plt.title(\"Learning rate 0.03\")"
      ],
      "execution_count": 29,
      "outputs": [
        {
          "output_type": "execute_result",
          "data": {
            "text/plain": [
              "Text(0.5, 1.0, 'Learning rate 0.03')"
            ]
          },
          "metadata": {},
          "execution_count": 29
        },
        {
          "output_type": "display_data",
          "data": {
            "image/png": "[encoded data removed]",
            "text/plain": [
              "<Figure size 432x288 with 1 Axes>"
            ]
          },
          "metadata": {
            "needs_background": "light"
          }
        }
      ]
    },
    {
      "cell_type": "code",
      "metadata": {
        "id": "JlINyx1vt9im"
      },
      "source": [
        "FILE = 'doodle.pth'\n",
        "torch.save(model.state_dict(), FILE)"
      ],
      "execution_count": 28,
      "outputs": []
    }
  ]
}